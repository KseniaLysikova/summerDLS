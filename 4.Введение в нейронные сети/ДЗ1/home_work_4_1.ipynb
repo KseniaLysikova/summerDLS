{
  "nbformat": 4,
  "nbformat_minor": 0,
  "metadata": {
    "colab": {
      "provenance": []
    },
    "kernelspec": {
      "name": "python3",
      "display_name": "Python 3"
    },
    "language_info": {
      "name": "python"
    },
    "widgets": {
      "application/vnd.jupyter.widget-state+json": {
        "98bd0dab737140d08612e1b544f0616d": {
          "model_module": "@jupyter-widgets/controls",
          "model_name": "HBoxModel",
          "model_module_version": "1.5.0",
          "state": {
            "_dom_classes": [],
            "_model_module": "@jupyter-widgets/controls",
            "_model_module_version": "1.5.0",
            "_model_name": "HBoxModel",
            "_view_count": null,
            "_view_module": "@jupyter-widgets/controls",
            "_view_module_version": "1.5.0",
            "_view_name": "HBoxView",
            "box_style": "",
            "children": [
              "IPY_MODEL_41bb923faace45de9a84df9efc4de82c",
              "IPY_MODEL_656f267c47574fd783b0f473636bd9a9",
              "IPY_MODEL_cc9dd48d8c084c448ff6c872d25db8cd"
            ],
            "layout": "IPY_MODEL_3b7c2fc55b714f758b998aca4208a1a5"
          }
        },
        "41bb923faace45de9a84df9efc4de82c": {
          "model_module": "@jupyter-widgets/controls",
          "model_name": "HTMLModel",
          "model_module_version": "1.5.0",
          "state": {
            "_dom_classes": [],
            "_model_module": "@jupyter-widgets/controls",
            "_model_module_version": "1.5.0",
            "_model_name": "HTMLModel",
            "_view_count": null,
            "_view_module": "@jupyter-widgets/controls",
            "_view_module_version": "1.5.0",
            "_view_name": "HTMLView",
            "description": "",
            "description_tooltip": null,
            "layout": "IPY_MODEL_9d8d3619aa1849908a7b3250bef1414d",
            "placeholder": "​",
            "style": "IPY_MODEL_9feb080c97b545d6b2dbe048b3fa7115",
            "value": "100%"
          }
        },
        "656f267c47574fd783b0f473636bd9a9": {
          "model_module": "@jupyter-widgets/controls",
          "model_name": "FloatProgressModel",
          "model_module_version": "1.5.0",
          "state": {
            "_dom_classes": [],
            "_model_module": "@jupyter-widgets/controls",
            "_model_module_version": "1.5.0",
            "_model_name": "FloatProgressModel",
            "_view_count": null,
            "_view_module": "@jupyter-widgets/controls",
            "_view_module_version": "1.5.0",
            "_view_name": "ProgressView",
            "bar_style": "success",
            "description": "",
            "description_tooltip": null,
            "layout": "IPY_MODEL_2cc6e72b80294ffb829202f4037a287e",
            "max": 50,
            "min": 0,
            "orientation": "horizontal",
            "style": "IPY_MODEL_db41967ada144095b953f800e4f8ab3e",
            "value": 50
          }
        },
        "cc9dd48d8c084c448ff6c872d25db8cd": {
          "model_module": "@jupyter-widgets/controls",
          "model_name": "HTMLModel",
          "model_module_version": "1.5.0",
          "state": {
            "_dom_classes": [],
            "_model_module": "@jupyter-widgets/controls",
            "_model_module_version": "1.5.0",
            "_model_name": "HTMLModel",
            "_view_count": null,
            "_view_module": "@jupyter-widgets/controls",
            "_view_module_version": "1.5.0",
            "_view_name": "HTMLView",
            "description": "",
            "description_tooltip": null,
            "layout": "IPY_MODEL_b8d892d1a18c41b1afb5e8bcd3db25c0",
            "placeholder": "​",
            "style": "IPY_MODEL_05ff26acf4354300a1f05d67f5822651",
            "value": " 50/50 [16:01&lt;00:00, 19.06s/it]"
          }
        },
        "3b7c2fc55b714f758b998aca4208a1a5": {
          "model_module": "@jupyter-widgets/base",
          "model_name": "LayoutModel",
          "model_module_version": "1.2.0",
          "state": {
            "_model_module": "@jupyter-widgets/base",
            "_model_module_version": "1.2.0",
            "_model_name": "LayoutModel",
            "_view_count": null,
            "_view_module": "@jupyter-widgets/base",
            "_view_module_version": "1.2.0",
            "_view_name": "LayoutView",
            "align_content": null,
            "align_items": null,
            "align_self": null,
            "border": null,
            "bottom": null,
            "display": null,
            "flex": null,
            "flex_flow": null,
            "grid_area": null,
            "grid_auto_columns": null,
            "grid_auto_flow": null,
            "grid_auto_rows": null,
            "grid_column": null,
            "grid_gap": null,
            "grid_row": null,
            "grid_template_areas": null,
            "grid_template_columns": null,
            "grid_template_rows": null,
            "height": null,
            "justify_content": null,
            "justify_items": null,
            "left": null,
            "margin": null,
            "max_height": null,
            "max_width": null,
            "min_height": null,
            "min_width": null,
            "object_fit": null,
            "object_position": null,
            "order": null,
            "overflow": null,
            "overflow_x": null,
            "overflow_y": null,
            "padding": null,
            "right": null,
            "top": null,
            "visibility": null,
            "width": null
          }
        },
        "9d8d3619aa1849908a7b3250bef1414d": {
          "model_module": "@jupyter-widgets/base",
          "model_name": "LayoutModel",
          "model_module_version": "1.2.0",
          "state": {
            "_model_module": "@jupyter-widgets/base",
            "_model_module_version": "1.2.0",
            "_model_name": "LayoutModel",
            "_view_count": null,
            "_view_module": "@jupyter-widgets/base",
            "_view_module_version": "1.2.0",
            "_view_name": "LayoutView",
            "align_content": null,
            "align_items": null,
            "align_self": null,
            "border": null,
            "bottom": null,
            "display": null,
            "flex": null,
            "flex_flow": null,
            "grid_area": null,
            "grid_auto_columns": null,
            "grid_auto_flow": null,
            "grid_auto_rows": null,
            "grid_column": null,
            "grid_gap": null,
            "grid_row": null,
            "grid_template_areas": null,
            "grid_template_columns": null,
            "grid_template_rows": null,
            "height": null,
            "justify_content": null,
            "justify_items": null,
            "left": null,
            "margin": null,
            "max_height": null,
            "max_width": null,
            "min_height": null,
            "min_width": null,
            "object_fit": null,
            "object_position": null,
            "order": null,
            "overflow": null,
            "overflow_x": null,
            "overflow_y": null,
            "padding": null,
            "right": null,
            "top": null,
            "visibility": null,
            "width": null
          }
        },
        "9feb080c97b545d6b2dbe048b3fa7115": {
          "model_module": "@jupyter-widgets/controls",
          "model_name": "DescriptionStyleModel",
          "model_module_version": "1.5.0",
          "state": {
            "_model_module": "@jupyter-widgets/controls",
            "_model_module_version": "1.5.0",
            "_model_name": "DescriptionStyleModel",
            "_view_count": null,
            "_view_module": "@jupyter-widgets/base",
            "_view_module_version": "1.2.0",
            "_view_name": "StyleView",
            "description_width": ""
          }
        },
        "2cc6e72b80294ffb829202f4037a287e": {
          "model_module": "@jupyter-widgets/base",
          "model_name": "LayoutModel",
          "model_module_version": "1.2.0",
          "state": {
            "_model_module": "@jupyter-widgets/base",
            "_model_module_version": "1.2.0",
            "_model_name": "LayoutModel",
            "_view_count": null,
            "_view_module": "@jupyter-widgets/base",
            "_view_module_version": "1.2.0",
            "_view_name": "LayoutView",
            "align_content": null,
            "align_items": null,
            "align_self": null,
            "border": null,
            "bottom": null,
            "display": null,
            "flex": null,
            "flex_flow": null,
            "grid_area": null,
            "grid_auto_columns": null,
            "grid_auto_flow": null,
            "grid_auto_rows": null,
            "grid_column": null,
            "grid_gap": null,
            "grid_row": null,
            "grid_template_areas": null,
            "grid_template_columns": null,
            "grid_template_rows": null,
            "height": null,
            "justify_content": null,
            "justify_items": null,
            "left": null,
            "margin": null,
            "max_height": null,
            "max_width": null,
            "min_height": null,
            "min_width": null,
            "object_fit": null,
            "object_position": null,
            "order": null,
            "overflow": null,
            "overflow_x": null,
            "overflow_y": null,
            "padding": null,
            "right": null,
            "top": null,
            "visibility": null,
            "width": null
          }
        },
        "db41967ada144095b953f800e4f8ab3e": {
          "model_module": "@jupyter-widgets/controls",
          "model_name": "ProgressStyleModel",
          "model_module_version": "1.5.0",
          "state": {
            "_model_module": "@jupyter-widgets/controls",
            "_model_module_version": "1.5.0",
            "_model_name": "ProgressStyleModel",
            "_view_count": null,
            "_view_module": "@jupyter-widgets/base",
            "_view_module_version": "1.2.0",
            "_view_name": "StyleView",
            "bar_color": null,
            "description_width": ""
          }
        },
        "b8d892d1a18c41b1afb5e8bcd3db25c0": {
          "model_module": "@jupyter-widgets/base",
          "model_name": "LayoutModel",
          "model_module_version": "1.2.0",
          "state": {
            "_model_module": "@jupyter-widgets/base",
            "_model_module_version": "1.2.0",
            "_model_name": "LayoutModel",
            "_view_count": null,
            "_view_module": "@jupyter-widgets/base",
            "_view_module_version": "1.2.0",
            "_view_name": "LayoutView",
            "align_content": null,
            "align_items": null,
            "align_self": null,
            "border": null,
            "bottom": null,
            "display": null,
            "flex": null,
            "flex_flow": null,
            "grid_area": null,
            "grid_auto_columns": null,
            "grid_auto_flow": null,
            "grid_auto_rows": null,
            "grid_column": null,
            "grid_gap": null,
            "grid_row": null,
            "grid_template_areas": null,
            "grid_template_columns": null,
            "grid_template_rows": null,
            "height": null,
            "justify_content": null,
            "justify_items": null,
            "left": null,
            "margin": null,
            "max_height": null,
            "max_width": null,
            "min_height": null,
            "min_width": null,
            "object_fit": null,
            "object_position": null,
            "order": null,
            "overflow": null,
            "overflow_x": null,
            "overflow_y": null,
            "padding": null,
            "right": null,
            "top": null,
            "visibility": null,
            "width": null
          }
        },
        "05ff26acf4354300a1f05d67f5822651": {
          "model_module": "@jupyter-widgets/controls",
          "model_name": "DescriptionStyleModel",
          "model_module_version": "1.5.0",
          "state": {
            "_model_module": "@jupyter-widgets/controls",
            "_model_module_version": "1.5.0",
            "_model_name": "DescriptionStyleModel",
            "_view_count": null,
            "_view_module": "@jupyter-widgets/base",
            "_view_module_version": "1.2.0",
            "_view_name": "StyleView",
            "description_width": ""
          }
        },
        "f5e27dfd4343400293432040aed9cd62": {
          "model_module": "@jupyter-widgets/controls",
          "model_name": "HBoxModel",
          "model_module_version": "1.5.0",
          "state": {
            "_dom_classes": [],
            "_model_module": "@jupyter-widgets/controls",
            "_model_module_version": "1.5.0",
            "_model_name": "HBoxModel",
            "_view_count": null,
            "_view_module": "@jupyter-widgets/controls",
            "_view_module_version": "1.5.0",
            "_view_name": "HBoxView",
            "box_style": "",
            "children": [
              "IPY_MODEL_e66b0ab83a234e80b282206d28678cde",
              "IPY_MODEL_7fab9a9601dd456594f30bf0b11699aa",
              "IPY_MODEL_3b8f8ac966004c47a24487936c77cad8"
            ],
            "layout": "IPY_MODEL_7e62f1278f53427297c296cd617e12e4"
          }
        },
        "e66b0ab83a234e80b282206d28678cde": {
          "model_module": "@jupyter-widgets/controls",
          "model_name": "HTMLModel",
          "model_module_version": "1.5.0",
          "state": {
            "_dom_classes": [],
            "_model_module": "@jupyter-widgets/controls",
            "_model_module_version": "1.5.0",
            "_model_name": "HTMLModel",
            "_view_count": null,
            "_view_module": "@jupyter-widgets/controls",
            "_view_module_version": "1.5.0",
            "_view_name": "HTMLView",
            "description": "",
            "description_tooltip": null,
            "layout": "IPY_MODEL_5029071294e44d928d9fb0c05e71bab3",
            "placeholder": "​",
            "style": "IPY_MODEL_0b06524e3cf74039907ff72836f1d61f",
            "value": "100%"
          }
        },
        "7fab9a9601dd456594f30bf0b11699aa": {
          "model_module": "@jupyter-widgets/controls",
          "model_name": "FloatProgressModel",
          "model_module_version": "1.5.0",
          "state": {
            "_dom_classes": [],
            "_model_module": "@jupyter-widgets/controls",
            "_model_module_version": "1.5.0",
            "_model_name": "FloatProgressModel",
            "_view_count": null,
            "_view_module": "@jupyter-widgets/controls",
            "_view_module_version": "1.5.0",
            "_view_name": "ProgressView",
            "bar_style": "success",
            "description": "",
            "description_tooltip": null,
            "layout": "IPY_MODEL_eee4cc5494b74ab2ad22da0ad1743562",
            "max": 50,
            "min": 0,
            "orientation": "horizontal",
            "style": "IPY_MODEL_5bcd6a1f480e4180b6d61e5bb88c9d59",
            "value": 50
          }
        },
        "3b8f8ac966004c47a24487936c77cad8": {
          "model_module": "@jupyter-widgets/controls",
          "model_name": "HTMLModel",
          "model_module_version": "1.5.0",
          "state": {
            "_dom_classes": [],
            "_model_module": "@jupyter-widgets/controls",
            "_model_module_version": "1.5.0",
            "_model_name": "HTMLModel",
            "_view_count": null,
            "_view_module": "@jupyter-widgets/controls",
            "_view_module_version": "1.5.0",
            "_view_name": "HTMLView",
            "description": "",
            "description_tooltip": null,
            "layout": "IPY_MODEL_6b1e579fd31b49f19f2ccd745b5df44d",
            "placeholder": "​",
            "style": "IPY_MODEL_325ebf37cedd4645a94e785ab48d0079",
            "value": " 50/50 [12:36&lt;00:00, 15.27s/it]"
          }
        },
        "7e62f1278f53427297c296cd617e12e4": {
          "model_module": "@jupyter-widgets/base",
          "model_name": "LayoutModel",
          "model_module_version": "1.2.0",
          "state": {
            "_model_module": "@jupyter-widgets/base",
            "_model_module_version": "1.2.0",
            "_model_name": "LayoutModel",
            "_view_count": null,
            "_view_module": "@jupyter-widgets/base",
            "_view_module_version": "1.2.0",
            "_view_name": "LayoutView",
            "align_content": null,
            "align_items": null,
            "align_self": null,
            "border": null,
            "bottom": null,
            "display": null,
            "flex": null,
            "flex_flow": null,
            "grid_area": null,
            "grid_auto_columns": null,
            "grid_auto_flow": null,
            "grid_auto_rows": null,
            "grid_column": null,
            "grid_gap": null,
            "grid_row": null,
            "grid_template_areas": null,
            "grid_template_columns": null,
            "grid_template_rows": null,
            "height": null,
            "justify_content": null,
            "justify_items": null,
            "left": null,
            "margin": null,
            "max_height": null,
            "max_width": null,
            "min_height": null,
            "min_width": null,
            "object_fit": null,
            "object_position": null,
            "order": null,
            "overflow": null,
            "overflow_x": null,
            "overflow_y": null,
            "padding": null,
            "right": null,
            "top": null,
            "visibility": null,
            "width": null
          }
        },
        "5029071294e44d928d9fb0c05e71bab3": {
          "model_module": "@jupyter-widgets/base",
          "model_name": "LayoutModel",
          "model_module_version": "1.2.0",
          "state": {
            "_model_module": "@jupyter-widgets/base",
            "_model_module_version": "1.2.0",
            "_model_name": "LayoutModel",
            "_view_count": null,
            "_view_module": "@jupyter-widgets/base",
            "_view_module_version": "1.2.0",
            "_view_name": "LayoutView",
            "align_content": null,
            "align_items": null,
            "align_self": null,
            "border": null,
            "bottom": null,
            "display": null,
            "flex": null,
            "flex_flow": null,
            "grid_area": null,
            "grid_auto_columns": null,
            "grid_auto_flow": null,
            "grid_auto_rows": null,
            "grid_column": null,
            "grid_gap": null,
            "grid_row": null,
            "grid_template_areas": null,
            "grid_template_columns": null,
            "grid_template_rows": null,
            "height": null,
            "justify_content": null,
            "justify_items": null,
            "left": null,
            "margin": null,
            "max_height": null,
            "max_width": null,
            "min_height": null,
            "min_width": null,
            "object_fit": null,
            "object_position": null,
            "order": null,
            "overflow": null,
            "overflow_x": null,
            "overflow_y": null,
            "padding": null,
            "right": null,
            "top": null,
            "visibility": null,
            "width": null
          }
        },
        "0b06524e3cf74039907ff72836f1d61f": {
          "model_module": "@jupyter-widgets/controls",
          "model_name": "DescriptionStyleModel",
          "model_module_version": "1.5.0",
          "state": {
            "_model_module": "@jupyter-widgets/controls",
            "_model_module_version": "1.5.0",
            "_model_name": "DescriptionStyleModel",
            "_view_count": null,
            "_view_module": "@jupyter-widgets/base",
            "_view_module_version": "1.2.0",
            "_view_name": "StyleView",
            "description_width": ""
          }
        },
        "eee4cc5494b74ab2ad22da0ad1743562": {
          "model_module": "@jupyter-widgets/base",
          "model_name": "LayoutModel",
          "model_module_version": "1.2.0",
          "state": {
            "_model_module": "@jupyter-widgets/base",
            "_model_module_version": "1.2.0",
            "_model_name": "LayoutModel",
            "_view_count": null,
            "_view_module": "@jupyter-widgets/base",
            "_view_module_version": "1.2.0",
            "_view_name": "LayoutView",
            "align_content": null,
            "align_items": null,
            "align_self": null,
            "border": null,
            "bottom": null,
            "display": null,
            "flex": null,
            "flex_flow": null,
            "grid_area": null,
            "grid_auto_columns": null,
            "grid_auto_flow": null,
            "grid_auto_rows": null,
            "grid_column": null,
            "grid_gap": null,
            "grid_row": null,
            "grid_template_areas": null,
            "grid_template_columns": null,
            "grid_template_rows": null,
            "height": null,
            "justify_content": null,
            "justify_items": null,
            "left": null,
            "margin": null,
            "max_height": null,
            "max_width": null,
            "min_height": null,
            "min_width": null,
            "object_fit": null,
            "object_position": null,
            "order": null,
            "overflow": null,
            "overflow_x": null,
            "overflow_y": null,
            "padding": null,
            "right": null,
            "top": null,
            "visibility": null,
            "width": null
          }
        },
        "5bcd6a1f480e4180b6d61e5bb88c9d59": {
          "model_module": "@jupyter-widgets/controls",
          "model_name": "ProgressStyleModel",
          "model_module_version": "1.5.0",
          "state": {
            "_model_module": "@jupyter-widgets/controls",
            "_model_module_version": "1.5.0",
            "_model_name": "ProgressStyleModel",
            "_view_count": null,
            "_view_module": "@jupyter-widgets/base",
            "_view_module_version": "1.2.0",
            "_view_name": "StyleView",
            "bar_color": null,
            "description_width": ""
          }
        },
        "6b1e579fd31b49f19f2ccd745b5df44d": {
          "model_module": "@jupyter-widgets/base",
          "model_name": "LayoutModel",
          "model_module_version": "1.2.0",
          "state": {
            "_model_module": "@jupyter-widgets/base",
            "_model_module_version": "1.2.0",
            "_model_name": "LayoutModel",
            "_view_count": null,
            "_view_module": "@jupyter-widgets/base",
            "_view_module_version": "1.2.0",
            "_view_name": "LayoutView",
            "align_content": null,
            "align_items": null,
            "align_self": null,
            "border": null,
            "bottom": null,
            "display": null,
            "flex": null,
            "flex_flow": null,
            "grid_area": null,
            "grid_auto_columns": null,
            "grid_auto_flow": null,
            "grid_auto_rows": null,
            "grid_column": null,
            "grid_gap": null,
            "grid_row": null,
            "grid_template_areas": null,
            "grid_template_columns": null,
            "grid_template_rows": null,
            "height": null,
            "justify_content": null,
            "justify_items": null,
            "left": null,
            "margin": null,
            "max_height": null,
            "max_width": null,
            "min_height": null,
            "min_width": null,
            "object_fit": null,
            "object_position": null,
            "order": null,
            "overflow": null,
            "overflow_x": null,
            "overflow_y": null,
            "padding": null,
            "right": null,
            "top": null,
            "visibility": null,
            "width": null
          }
        },
        "325ebf37cedd4645a94e785ab48d0079": {
          "model_module": "@jupyter-widgets/controls",
          "model_name": "DescriptionStyleModel",
          "model_module_version": "1.5.0",
          "state": {
            "_model_module": "@jupyter-widgets/controls",
            "_model_module_version": "1.5.0",
            "_model_name": "DescriptionStyleModel",
            "_view_count": null,
            "_view_module": "@jupyter-widgets/base",
            "_view_module_version": "1.2.0",
            "_view_name": "StyleView",
            "description_width": ""
          }
        }
      }
    }
  },
  "cells": [
    {
      "cell_type": "code",
      "execution_count": null,
      "metadata": {
        "id": "APu1VxdyRFJ6"
      },
      "outputs": [],
      "source": [
        "import torch\n",
        "import torch.nn as nn\n",
        "import torchvision\n",
        "import torchvision.transforms as transforms\n",
        "from torch.utils.data import DataLoader\n",
        "import matplotlib.pyplot as plt\n",
        "import numpy as np"
      ]
    },
    {
      "cell_type": "code",
      "source": [
        "transform = transforms.Compose([\n",
        "    transforms.ToTensor(),\n",
        "    transforms.Normalize((0.5,), (0.5,))\n",
        "])\n",
        "\n",
        "# Загрузка данных\n",
        "train_dataset = torchvision.datasets.MNIST(root='./data', train=True, download=True, transform=transform)\n",
        "test_dataset = torchvision.datasets.MNIST(root='./data', train=False, download=True, transform=transform)\n",
        "\n",
        "train_dataset"
      ],
      "metadata": {
        "id": "hrnCzOCdRlmW",
        "colab": {
          "base_uri": "https://localhost:8080/"
        },
        "outputId": "27b0b491-ea86-4bee-c08f-4556cabb47aa"
      },
      "execution_count": null,
      "outputs": [
        {
          "output_type": "stream",
          "name": "stdout",
          "text": [
            "Downloading http://yann.lecun.com/exdb/mnist/train-images-idx3-ubyte.gz\n",
            "Failed to download (trying next):\n",
            "HTTP Error 403: Forbidden\n",
            "\n",
            "Downloading https://ossci-datasets.s3.amazonaws.com/mnist/train-images-idx3-ubyte.gz\n",
            "Downloading https://ossci-datasets.s3.amazonaws.com/mnist/train-images-idx3-ubyte.gz to ./data/MNIST/raw/train-images-idx3-ubyte.gz\n"
          ]
        },
        {
          "output_type": "stream",
          "name": "stderr",
          "text": [
            "100%|██████████| 9912422/9912422 [00:00<00:00, 39205946.98it/s]\n"
          ]
        },
        {
          "output_type": "stream",
          "name": "stdout",
          "text": [
            "Extracting ./data/MNIST/raw/train-images-idx3-ubyte.gz to ./data/MNIST/raw\n",
            "\n",
            "Downloading http://yann.lecun.com/exdb/mnist/train-labels-idx1-ubyte.gz\n",
            "Failed to download (trying next):\n",
            "HTTP Error 403: Forbidden\n",
            "\n",
            "Downloading https://ossci-datasets.s3.amazonaws.com/mnist/train-labels-idx1-ubyte.gz\n",
            "Downloading https://ossci-datasets.s3.amazonaws.com/mnist/train-labels-idx1-ubyte.gz to ./data/MNIST/raw/train-labels-idx1-ubyte.gz\n"
          ]
        },
        {
          "output_type": "stream",
          "name": "stderr",
          "text": [
            "100%|██████████| 28881/28881 [00:00<00:00, 2450601.72it/s]\n"
          ]
        },
        {
          "output_type": "stream",
          "name": "stdout",
          "text": [
            "Extracting ./data/MNIST/raw/train-labels-idx1-ubyte.gz to ./data/MNIST/raw\n",
            "\n",
            "Downloading http://yann.lecun.com/exdb/mnist/t10k-images-idx3-ubyte.gz\n",
            "Failed to download (trying next):\n",
            "HTTP Error 403: Forbidden\n",
            "\n",
            "Downloading https://ossci-datasets.s3.amazonaws.com/mnist/t10k-images-idx3-ubyte.gz\n",
            "Downloading https://ossci-datasets.s3.amazonaws.com/mnist/t10k-images-idx3-ubyte.gz to ./data/MNIST/raw/t10k-images-idx3-ubyte.gz\n"
          ]
        },
        {
          "output_type": "stream",
          "name": "stderr",
          "text": [
            "100%|██████████| 1648877/1648877 [00:00<00:00, 2676310.49it/s]\n"
          ]
        },
        {
          "output_type": "stream",
          "name": "stdout",
          "text": [
            "Extracting ./data/MNIST/raw/t10k-images-idx3-ubyte.gz to ./data/MNIST/raw\n",
            "\n",
            "Downloading http://yann.lecun.com/exdb/mnist/t10k-labels-idx1-ubyte.gz\n",
            "Failed to download (trying next):\n",
            "HTTP Error 403: Forbidden\n",
            "\n",
            "Downloading https://ossci-datasets.s3.amazonaws.com/mnist/t10k-labels-idx1-ubyte.gz\n",
            "Downloading https://ossci-datasets.s3.amazonaws.com/mnist/t10k-labels-idx1-ubyte.gz to ./data/MNIST/raw/t10k-labels-idx1-ubyte.gz\n"
          ]
        },
        {
          "output_type": "stream",
          "name": "stderr",
          "text": [
            "100%|██████████| 4542/4542 [00:00<00:00, 1007271.65it/s]\n"
          ]
        },
        {
          "output_type": "stream",
          "name": "stdout",
          "text": [
            "Extracting ./data/MNIST/raw/t10k-labels-idx1-ubyte.gz to ./data/MNIST/raw\n",
            "\n"
          ]
        },
        {
          "output_type": "execute_result",
          "data": {
            "text/plain": [
              "Dataset MNIST\n",
              "    Number of datapoints: 60000\n",
              "    Root location: ./data\n",
              "    Split: Train\n",
              "    StandardTransform\n",
              "Transform: Compose(\n",
              "               ToTensor()\n",
              "               Normalize(mean=(0.5,), std=(0.5,))\n",
              "           )"
            ]
          },
          "metadata": {},
          "execution_count": 2
        }
      ]
    },
    {
      "cell_type": "code",
      "source": [
        "# загрузка даннх\n",
        "train_loader = DataLoader(train_dataset, batch_size=64, shuffle=True)\n",
        "test_loader = DataLoader(test_dataset, batch_size=64, shuffle=False)"
      ],
      "metadata": {
        "id": "HZDvTEvdTrnV"
      },
      "execution_count": null,
      "outputs": []
    },
    {
      "cell_type": "code",
      "source": [
        "import numpy as np\n",
        "\n",
        "train_labels = np.array(train_dataset.targets)\n",
        "test_labels = np.array(test_dataset.targets)\n",
        "\n",
        "train_class_counts = np.bincount(train_labels)\n",
        "test_class_counts = np.bincount(test_labels)"
      ],
      "metadata": {
        "id": "6LpMeOPkt0Rv"
      },
      "execution_count": null,
      "outputs": []
    },
    {
      "cell_type": "code",
      "source": [
        "# баланс классов\n",
        "import matplotlib.pyplot as plt\n",
        "\n",
        "fig, ax = plt.subplots(figsize=(10, 6))\n",
        "ax.bar(range(10), train_class_counts)\n",
        "ax.set_xlabel('Класс')\n",
        "ax.set_ylabel('Количество примеров')\n",
        "ax.set_title('Баланс классов в обучающем наборе MNIST')\n",
        "plt.show()\n",
        "\n",
        "fig, ax = plt.subplots(figsize=(10, 6))\n",
        "ax.bar(range(10), test_class_counts)\n",
        "ax.set_xlabel('Класс')\n",
        "ax.set_ylabel('Количество примеров')\n",
        "ax.set_title('Баланс классов в тестовом наборе MNIST')\n",
        "plt.show()"
      ],
      "metadata": {
        "colab": {
          "base_uri": "https://localhost:8080/",
          "height": 1000
        },
        "id": "LySCj8fzt3hQ",
        "outputId": "c7e8603a-07df-4a2b-8ea1-89f04800df06"
      },
      "execution_count": null,
      "outputs": [
        {
          "output_type": "display_data",
          "data": {
            "text/plain": [
              "<Figure size 1000x600 with 1 Axes>"
            ],
            "image/png": "[encoded data removed]"
          },
          "metadata": {}
        },
        {
          "output_type": "display_data",
          "data": {
            "text/plain": [
              "<Figure size 1000x600 with 1 Axes>"
            ],
            "image/png": "[encoded data removed]"
          },
          "metadata": {}
        }
      ]
    },
    {
      "cell_type": "code",
      "source": [
        "# визуализация обучающей выборки\n",
        "dataiter = iter(train_loader)\n",
        "images, labels = next(dataiter)\n",
        "\n",
        "fig, axs = plt.subplots(7, 7, figsize=(25,25))\n",
        "for i, ax in enumerate(axs.flatten()):\n",
        "    ax.text(0.5,0.5,labels[i].item())\n",
        "    ax.imshow(images[i].numpy().squeeze(), cmap='gray_r')\n",
        "    ax.axis('off')"
      ],
      "metadata": {
        "colab": {
          "base_uri": "https://localhost:8080/",
          "height": 1000
        },
        "id": "t32boHQlUyEi",
        "outputId": "43a06b61-3c26-4db9-b807-c61df6d92b33"
      },
      "execution_count": null,
      "outputs": [
        {
          "output_type": "display_data",
          "data": {
            "text/plain": [
              "<Figure size 2500x2500 with 49 Axes>"
            ],
            "image/png": "[encoded data removed]"
          },
          "metadata": {}
        }
      ]
    },
    {
      "cell_type": "code",
      "source": [
        "print(f\"Кол-во изображений train: {len(train_dataset)}\")\n",
        "print(f\"Кол-во изображений test: {len(test_dataset)}\")\n",
        "print(f\"Минимальное значение пикселя: {train_dataset[0][0].min()}\")\n",
        "print(f\"Максимальное значение пикселя: {train_dataset[0][0].max()}\")"
      ],
      "metadata": {
        "colab": {
          "base_uri": "https://localhost:8080/"
        },
        "id": "gUaZE8XOQ8CP",
        "outputId": "4af6c4e6-2967-4a8a-f23c-93cd66974b0d"
      },
      "execution_count": null,
      "outputs": [
        {
          "output_type": "stream",
          "name": "stdout",
          "text": [
            "Кол-во изображений train: 60000\n",
            "Кол-во изображений test: 10000\n",
            "Минимальное значение пикселя: -1.0\n",
            "Максимальное значение пикселя: 1.0\n"
          ]
        }
      ]
    },
    {
      "cell_type": "code",
      "source": [
        "# создаю новый датасет, где будут использоваться только белые и черные пиксели\n",
        "# потом буду сравнивать точности двух моделей\n",
        "# первая модель будет обучена на MNIST, вторая - на бинаризованных изображениях\n",
        "from torch.utils.data import Dataset\n",
        "from torchvision.transforms import ToTensor\n",
        "\n",
        "\n",
        "def binarize_image(image, threshold=0.5):\n",
        "    image[image >= threshold] = 1.0\n",
        "    image[image < threshold] = 0.0\n",
        "    return image\n",
        "\n",
        "# Определение нового датасета с бинаризованными изображениями\n",
        "class BinarizedMNIST(Dataset):\n",
        "    def __init__(self, root, train=True, transform=None):\n",
        "        self.mnist_dataset = torchvision.datasets.MNIST(root=root, train=train, download=True, transform=transform)\n",
        "\n",
        "    def __len__(self):\n",
        "        return len(self.mnist_dataset)\n",
        "\n",
        "    def __getitem__(self, index):\n",
        "        image, label = self.mnist_dataset[index]\n",
        "        binarized_image = binarize_image(image)\n",
        "        return binarized_image, label\n",
        "\n",
        "# Загрузка бинаризованного датасета\n",
        "train_data = BinarizedMNIST(root='data/', train=True, transform=ToTensor())\n",
        "test_data = BinarizedMNIST(root='data/', train=False, transform=ToTensor())\n",
        "\n",
        "# Создание загрузчиков данных\n",
        "train_loader_new = DataLoader(train_data, batch_size=64, shuffle=True)\n",
        "test_loader_new = DataLoader(test_data, batch_size=64, shuffle=False)"
      ],
      "metadata": {
        "id": "_4h6mn19RBn-"
      },
      "execution_count": null,
      "outputs": []
    },
    {
      "cell_type": "code",
      "source": [
        "# визуализация бинаризованной обучающей выборки\n",
        "dataiter = iter(train_loader_new)\n",
        "images, labels = next(dataiter)\n",
        "\n",
        "fig, axs = plt.subplots(7, 7, figsize=(25,25))\n",
        "for i, ax in enumerate(axs.flatten()):\n",
        "    ax.text(0.5,0.5,labels[i].item())\n",
        "    ax.imshow(images[i].numpy().squeeze(), cmap='gray_r')\n",
        "    ax.axis('off')"
      ],
      "metadata": {
        "colab": {
          "base_uri": "https://localhost:8080/",
          "height": 1000
        },
        "id": "rzcULRwpRDqE",
        "outputId": "2da8824f-c09e-4e34-ee65-3f4c7ec29e48"
      },
      "execution_count": null,
      "outputs": [
        {
          "output_type": "display_data",
          "data": {
            "text/plain": [
              "<Figure size 2500x2500 with 49 Axes>"
            ],
            "image/png": "[encoded data removed]"
          },
          "metadata": {}
        }
      ]
    },
    {
      "cell_type": "code",
      "source": [
        "# класс нейронной сети\n",
        "# во входном слое будет 784 нейрона - для каждого пикселя\n",
        "# в выходном - 10 - для каждого класса\n",
        "class Net(nn.Module):\n",
        "    def __init__(self):\n",
        "        super(Net, self).__init__()\n",
        "\n",
        "        self.fc1 = nn.Linear(28 * 28, 128)\n",
        "        self.act1 = nn.ReLU()\n",
        "\n",
        "        self.fc2 = nn.Linear(128, 64)\n",
        "        self.act2 = nn.ReLU()\n",
        "\n",
        "        self.fc3 = nn.Linear(64, 10)\n",
        "        self.act3 = nn.LogSoftmax(dim=1)\n",
        "\n",
        "\n",
        "    def forward(self, x):\n",
        "        x = x.view(-1, 28 * 28)\n",
        "\n",
        "        x = self.fc1(x)\n",
        "        x = self.act1(x)\n",
        "\n",
        "        x = self.fc2(x)\n",
        "        x = self.act2(x)\n",
        "\n",
        "        x = self.fc3(x)\n",
        "        x = self.act3(x)\n",
        "        return x"
      ],
      "metadata": {
        "id": "414EDIy_aO7Z"
      },
      "execution_count": null,
      "outputs": []
    },
    {
      "cell_type": "code",
      "source": [
        "import tqdm\n",
        "from tqdm.auto import tqdm\n",
        "\n",
        "def train_stochastic(model, loader, criterion, optimizer, num_epoch):\n",
        "    for epoch in tqdm(range(num_epoch)):\n",
        "        epoch_loss = []\n",
        "\n",
        "        for X_batch, y_batch in loader:\n",
        "            y_pred = model(X_batch)\n",
        "\n",
        "            loss = criterion(y_pred, y_batch)\n",
        "            epoch_loss.append(loss.item())\n",
        "\n",
        "            optimizer.zero_grad()\n",
        "            loss.backward()\n",
        "            optimizer.step()\n",
        "\n",
        "        print(f'Epoch {epoch+1}, Loss: {np.mean(epoch_loss)}')\n",
        "\n",
        "    return model"
      ],
      "metadata": {
        "id": "RMS8UnyDbIpm"
      },
      "execution_count": null,
      "outputs": []
    },
    {
      "cell_type": "code",
      "source": [
        "# первая модель будет обучаться на небинаризованном датасете\n",
        "model = Net()"
      ],
      "metadata": {
        "id": "u6FWYCwDbT-r"
      },
      "execution_count": null,
      "outputs": []
    },
    {
      "cell_type": "code",
      "source": [
        "criterion = nn.CrossEntropyLoss()\n",
        "optimizer = torch.optim.Adam(model.parameters(), lr=1e-3)"
      ],
      "metadata": {
        "id": "WAdIAXhHbjHH"
      },
      "execution_count": null,
      "outputs": []
    },
    {
      "cell_type": "code",
      "source": [
        "# обучение первой модели\n",
        "train_stochastic(model, train_loader, criterion, optimizer, num_epoch=50)"
      ],
      "metadata": {
        "colab": {
          "base_uri": "https://localhost:8080/",
          "height": 1000,
          "referenced_widgets": [
            "98bd0dab737140d08612e1b544f0616d",
            "41bb923faace45de9a84df9efc4de82c",
            "656f267c47574fd783b0f473636bd9a9",
            "cc9dd48d8c084c448ff6c872d25db8cd",
            "3b7c2fc55b714f758b998aca4208a1a5",
            "9d8d3619aa1849908a7b3250bef1414d",
            "9feb080c97b545d6b2dbe048b3fa7115",
            "2cc6e72b80294ffb829202f4037a287e",
            "db41967ada144095b953f800e4f8ab3e",
            "b8d892d1a18c41b1afb5e8bcd3db25c0",
            "05ff26acf4354300a1f05d67f5822651"
          ]
        },
        "id": "N2QUhnTnbu7I",
        "outputId": "10536064-18ec-4dd3-c5ad-6d04bf519fdc"
      },
      "execution_count": null,
      "outputs": [
        {
          "output_type": "display_data",
          "data": {
            "text/plain": [
              "  0%|          | 0/50 [00:00<?, ?it/s]"
            ],
            "application/vnd.jupyter.widget-view+json": {
              "version_major": 2,
              "version_minor": 0,
              "model_id": "98bd0dab737140d08612e1b544f0616d"
            }
          },
          "metadata": {}
        },
        {
          "output_type": "stream",
          "name": "stdout",
          "text": [
            "Epoch 1, Loss: 0.40274320988417434\n",
            "Epoch 2, Loss: 0.19344774573278833\n",
            "Epoch 3, Loss: 0.14125350408001877\n",
            "Epoch 4, Loss: 0.11126262854053967\n",
            "Epoch 5, Loss: 0.09579064942268865\n",
            "Epoch 6, Loss: 0.08220408096520314\n",
            "Epoch 7, Loss: 0.07314314346076416\n",
            "Epoch 8, Loss: 0.06478697475520516\n",
            "Epoch 9, Loss: 0.058709604107389554\n",
            "Epoch 10, Loss: 0.05634467103960378\n",
            "Epoch 11, Loss: 0.04723732261697569\n",
            "Epoch 12, Loss: 0.0487058165348269\n",
            "Epoch 13, Loss: 0.04625743084755574\n",
            "Epoch 14, Loss: 0.040194702349160845\n",
            "Epoch 15, Loss: 0.03971657697602224\n",
            "Epoch 16, Loss: 0.033203636352160226\n",
            "Epoch 17, Loss: 0.03303871084115595\n",
            "Epoch 18, Loss: 0.0337069977443872\n",
            "Epoch 19, Loss: 0.03193446952990926\n",
            "Epoch 20, Loss: 0.027678119177302184\n",
            "Epoch 21, Loss: 0.028386258115160226\n",
            "Epoch 22, Loss: 0.02643493506695492\n",
            "Epoch 23, Loss: 0.025384349911165744\n",
            "Epoch 24, Loss: 0.0229907384281857\n",
            "Epoch 25, Loss: 0.024665223677458773\n",
            "Epoch 26, Loss: 0.018721247374686965\n",
            "Epoch 27, Loss: 0.02625798235518864\n",
            "Epoch 28, Loss: 0.019153747959452006\n",
            "Epoch 29, Loss: 0.0195350123164522\n",
            "Epoch 30, Loss: 0.023316604815642225\n",
            "Epoch 31, Loss: 0.019460490109890795\n",
            "Epoch 32, Loss: 0.018890670525274364\n",
            "Epoch 33, Loss: 0.021230453288560613\n",
            "Epoch 34, Loss: 0.01636713296558833\n",
            "Epoch 35, Loss: 0.019584401477656155\n",
            "Epoch 36, Loss: 0.017417171414556763\n",
            "Epoch 37, Loss: 0.01815805320028522\n",
            "Epoch 38, Loss: 0.016126891222289712\n",
            "Epoch 39, Loss: 0.015215874705820736\n",
            "Epoch 40, Loss: 0.017939349998970955\n",
            "Epoch 41, Loss: 0.01542676614779267\n",
            "Epoch 42, Loss: 0.016907005474553614\n",
            "Epoch 43, Loss: 0.014766385957446162\n",
            "Epoch 44, Loss: 0.017442005303424546\n",
            "Epoch 45, Loss: 0.015274769707361534\n",
            "Epoch 46, Loss: 0.017598877991288474\n",
            "Epoch 47, Loss: 0.013432992488818716\n",
            "Epoch 48, Loss: 0.015509083836635287\n",
            "Epoch 49, Loss: 0.014292751353816436\n",
            "Epoch 50, Loss: 0.015834687094568207\n"
          ]
        },
        {
          "output_type": "execute_result",
          "data": {
            "text/plain": [
              "Net(\n",
              "  (fc1): Linear(in_features=784, out_features=128, bias=True)\n",
              "  (act1): ReLU()\n",
              "  (fc2): Linear(in_features=128, out_features=64, bias=True)\n",
              "  (act2): ReLU()\n",
              "  (fc3): Linear(in_features=64, out_features=10, bias=True)\n",
              "  (act3): LogSoftmax(dim=1)\n",
              ")"
            ]
          },
          "metadata": {},
          "execution_count": 13
        }
      ]
    },
    {
      "cell_type": "code",
      "source": [
        "model.eval()\n",
        "correct = 0\n",
        "total = 0\n",
        "with torch.no_grad():\n",
        "    for images, labels in test_loader:\n",
        "        outputs = model(images)\n",
        "        _, predicted = torch.max(outputs.data, 1)\n",
        "        total += labels.size(0)\n",
        "        correct += (predicted == labels).sum().item()\n",
        "\n",
        "print(f'Test Accuracy: {100 * correct / total}%')"
      ],
      "metadata": {
        "colab": {
          "base_uri": "https://localhost:8080/"
        },
        "id": "AmDjEydpxzOD",
        "outputId": "667ed036-08cc-425d-f5a8-5de49d9d4969"
      },
      "execution_count": null,
      "outputs": [
        {
          "output_type": "stream",
          "name": "stdout",
          "text": [
            "Test Accuracy: 97.61%\n"
          ]
        }
      ]
    },
    {
      "cell_type": "code",
      "source": [
        "# вторая модель будет обучаться на бинаризованном датасете\n",
        "model2 = Net()"
      ],
      "metadata": {
        "id": "kY4G22ZhRRiF"
      },
      "execution_count": null,
      "outputs": []
    },
    {
      "cell_type": "code",
      "source": [
        "criterion = nn.CrossEntropyLoss()\n",
        "optimizer = torch.optim.Adam(model2.parameters(), lr=1e-3)"
      ],
      "metadata": {
        "id": "Q6pyBEBXWEbv"
      },
      "execution_count": null,
      "outputs": []
    },
    {
      "cell_type": "code",
      "source": [
        "train_stochastic(model2, train_loader_new, criterion, optimizer, num_epoch=50)"
      ],
      "metadata": {
        "id": "InUwdUFxRaDb",
        "colab": {
          "base_uri": "https://localhost:8080/",
          "height": 1000,
          "referenced_widgets": [
            "f5e27dfd4343400293432040aed9cd62",
            "e66b0ab83a234e80b282206d28678cde",
            "7fab9a9601dd456594f30bf0b11699aa",
            "3b8f8ac966004c47a24487936c77cad8",
            "7e62f1278f53427297c296cd617e12e4",
            "5029071294e44d928d9fb0c05e71bab3",
            "0b06524e3cf74039907ff72836f1d61f",
            "eee4cc5494b74ab2ad22da0ad1743562",
            "5bcd6a1f480e4180b6d61e5bb88c9d59",
            "6b1e579fd31b49f19f2ccd745b5df44d",
            "325ebf37cedd4645a94e785ab48d0079"
          ]
        },
        "outputId": "885ab356-5285-4ddd-fe30-3105acf2bff9"
      },
      "execution_count": null,
      "outputs": [
        {
          "output_type": "display_data",
          "data": {
            "text/plain": [
              "  0%|          | 0/50 [00:00<?, ?it/s]"
            ],
            "application/vnd.jupyter.widget-view+json": {
              "version_major": 2,
              "version_minor": 0,
              "model_id": "f5e27dfd4343400293432040aed9cd62"
            }
          },
          "metadata": {}
        },
        {
          "output_type": "stream",
          "name": "stdout",
          "text": [
            "Epoch 1, Loss: 0.35694952920349293\n",
            "Epoch 2, Loss: 0.1497950410581569\n",
            "Epoch 3, Loss: 0.09931498010759987\n",
            "Epoch 4, Loss: 0.07489808471942905\n",
            "Epoch 5, Loss: 0.053367919906520095\n",
            "Epoch 6, Loss: 0.04286528995273255\n",
            "Epoch 7, Loss: 0.031491082980916074\n",
            "Epoch 8, Loss: 0.023997615956069494\n",
            "Epoch 9, Loss: 0.021295715338994325\n",
            "Epoch 10, Loss: 0.016889478799348115\n",
            "Epoch 11, Loss: 0.013368706554073273\n",
            "Epoch 12, Loss: 0.012040679375980488\n",
            "Epoch 13, Loss: 0.010234016089020722\n",
            "Epoch 14, Loss: 0.011370721392364985\n",
            "Epoch 15, Loss: 0.008048576260818997\n",
            "Epoch 16, Loss: 0.011252727597704569\n",
            "Epoch 17, Loss: 0.0055221393640618845\n",
            "Epoch 18, Loss: 0.011200026535981688\n",
            "Epoch 19, Loss: 0.007495458518404\n",
            "Epoch 20, Loss: 0.006655282681671629\n",
            "Epoch 21, Loss: 0.00829837747443995\n",
            "Epoch 22, Loss: 0.003854921436989082\n",
            "Epoch 23, Loss: 0.006034837207921449\n",
            "Epoch 24, Loss: 0.009030469248614403\n",
            "Epoch 25, Loss: 0.008017435436565115\n",
            "Epoch 26, Loss: 0.004060564615984859\n",
            "Epoch 27, Loss: 0.00780553439147819\n",
            "Epoch 28, Loss: 0.005884356888312839\n",
            "Epoch 29, Loss: 0.006419897797755758\n",
            "Epoch 30, Loss: 0.00468893795600674\n",
            "Epoch 31, Loss: 0.006170081530825413\n",
            "Epoch 32, Loss: 0.005626166791233078\n",
            "Epoch 33, Loss: 0.005544775976406965\n",
            "Epoch 34, Loss: 0.005490613912742219\n",
            "Epoch 35, Loss: 0.001817544785747803\n",
            "Epoch 36, Loss: 0.005833475032853451\n",
            "Epoch 37, Loss: 0.007267290972267744\n",
            "Epoch 38, Loss: 0.004068386019130669\n",
            "Epoch 39, Loss: 0.0037798447687903505\n",
            "Epoch 40, Loss: 0.0037800690298049155\n",
            "Epoch 41, Loss: 0.006805130176941082\n",
            "Epoch 42, Loss: 0.0011639581322192298\n",
            "Epoch 43, Loss: 0.006472696090523551\n",
            "Epoch 44, Loss: 0.0043657177763559984\n",
            "Epoch 45, Loss: 0.004252052548522011\n",
            "Epoch 46, Loss: 0.004041017684279398\n",
            "Epoch 47, Loss: 0.005745559930211579\n",
            "Epoch 48, Loss: 0.003333312175166639\n",
            "Epoch 49, Loss: 0.00456989062102666\n",
            "Epoch 50, Loss: 0.00389560909493852\n"
          ]
        },
        {
          "output_type": "execute_result",
          "data": {
            "text/plain": [
              "Net(\n",
              "  (fc1): Linear(in_features=784, out_features=128, bias=True)\n",
              "  (act1): ReLU()\n",
              "  (fc2): Linear(in_features=128, out_features=64, bias=True)\n",
              "  (act2): ReLU()\n",
              "  (fc3): Linear(in_features=64, out_features=10, bias=True)\n",
              "  (act3): LogSoftmax(dim=1)\n",
              ")"
            ]
          },
          "metadata": {},
          "execution_count": 10
        }
      ]
    },
    {
      "cell_type": "code",
      "source": [
        "model2.eval()\n",
        "correct = 0\n",
        "total = 0\n",
        "with torch.no_grad():\n",
        "    for images, labels in test_loader_new:\n",
        "        outputs = model2(images)\n",
        "        _, predicted = torch.max(outputs.data, 1)\n",
        "        total += labels.size(0)\n",
        "        correct += (predicted == labels).sum().item()\n",
        "\n",
        "print(f'Test Accuracy: {100 * correct / total}%')"
      ],
      "metadata": {
        "id": "BMLebFlxRYTq",
        "colab": {
          "base_uri": "https://localhost:8080/"
        },
        "outputId": "f2ac7468-2f13-43d1-e17a-8c5cf15fd8a7"
      },
      "execution_count": null,
      "outputs": [
        {
          "output_type": "stream",
          "name": "stdout",
          "text": [
            "Test Accuracy: 97.11%\n"
          ]
        }
      ]
    },
    {
      "cell_type": "markdown",
      "source": [
        "В итоге, в ходе работы были обучены 2 модели: 1ая - на датасете MNIST, 2ая - на бинаризованном датасете MNIST. Были выведены тренировочные выборки этих датасетов и баланс классов. Точность 1ой модели составила 0.9761, когда точность 2ой модели составила 0.9711."
      ],
      "metadata": {
        "id": "J_zZX824wXEG"
      }
    }
  ]
}